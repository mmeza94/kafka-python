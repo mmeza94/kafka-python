{
 "cells": [
  {
   "cell_type": "code",
   "execution_count": 10,
   "metadata": {},
   "outputs": [],
   "source": [
    "from kafka import KafkaConsumer,KafkaProducer,KafkaAdminClient\n",
    "from dataclasses import dataclass\n",
    "from enum import Enum\n",
    "import contextlib\n",
    "\n",
    "@dataclass\n",
    "class kafka_config:\n",
    "    bootstrap_servers:str=None\n",
    "    value_serializer:object=None\n",
    "    value_deserializer:object=None\n",
    "    topic:str=None\n",
    "\n",
    "class KafkaClient(Enum):\n",
    "    producer = 1\n",
    "    consumer = 2\n",
    "    admin = 3\n",
    "\n",
    "\n",
    "class KafkaConnection:\n",
    "    def __init__(self,config:kafka_config) -> None:\n",
    "        self.config = config\n",
    "\n",
    "    def _get_consumer(self):\n",
    "        return KafkaConsumer()\n",
    "\n",
    "    def _get_producer(self):\n",
    "        return KafkaProducer(\n",
    "            bootstrap_servers=self.config.bootstrap_servers,\n",
    "            value_serializer=self.config.value_serializer\n",
    "        )\n",
    "\n",
    "    def _get_admin(self):\n",
    "        return KafkaAdminClient()\n",
    "\n",
    "    @contextlib.contextmanager\n",
    "    def  initialize(self, kafka_client:KafkaClient):\n",
    "        try:\n",
    "            if kafka_client == KafkaClient.producer:\n",
    "                client = self._get_producer()\n",
    "            elif kafka_client == KafkaClient.consumer:\n",
    "                client = self._get_consumer()\n",
    "            elif kafka_client == KafkaClient.admin:\n",
    "                client = self._get_admin()\n",
    "            else:\n",
    "                raise ValueError(f\"Unknown Kafka client type: {kafka_client}\")\n",
    "            yield client\n",
    "        finally:\n",
    "            client.close()\n",
    "    \n",
    "\n",
    "\n",
    "\n",
    "\n",
    "\n",
    "\n",
    "\n",
    "\n",
    "\n",
    "\n",
    "class KafkaDataAccess:\n",
    "    def __init__(self,config:kafka_config) -> None:\n",
    "        self.config = config\n",
    "        self.connection = KafkaConnection(config)\n",
    "\n",
    "    def send_message(self,message):\n",
    "        with self.connection.initialize(KafkaClient.producer) as client:\n",
    "            client.send(value=message,topic=self.config.topic)\n",
    "\n",
    "    def read_topic(self):\n",
    "        pass\n",
    "\n",
    "    def create_topics(self,topics:list[str]):\n",
    "        pass\n",
    "\n",
    "    def delete_topics(self,topics:list[str]):\n",
    "        pass\n",
    "\n",
    "\n",
    "\n"
   ]
  },
  {
   "cell_type": "code",
   "execution_count": 11,
   "metadata": {},
   "outputs": [
    {
     "ename": "AssertionError",
     "evalue": "Need at least one: key or value",
     "output_type": "error",
     "traceback": [
      "\u001b[0;31m---------------------------------------------------------------------------\u001b[0m",
      "\u001b[0;31mAssertionError\u001b[0m                            Traceback (most recent call last)",
      "\u001b[1;32m/workspaces/kafka-python/kafka.ipynb Cell 2\u001b[0m line \u001b[0;36m2\n\u001b[1;32m     <a href='vscode-notebook-cell://dev-container%2B7b22686f737450617468223a22633a5c5c55736572735c5c4d616e75656c5c5c4465736b746f705c5c6b61666b612d707974686f6e222c226c6f63616c446f636b6572223a66616c73652c22636f6e66696746696c65223a7b22246d6964223a312c22667350617468223a22633a5c5c55736572735c5c4d616e75656c5c5c4465736b746f705c5c6b61666b612d707974686f6e5c5c2e646576636f6e7461696e65725c5c646576636f6e7461696e65722e6a736f6e222c225f736570223a312c2265787465726e616c223a2266696c653a2f2f2f632533412f55736572732f4d616e75656c2f4465736b746f702f6b61666b612d707974686f6e2f2e646576636f6e7461696e65722f646576636f6e7461696e65722e6a736f6e222c2270617468223a222f633a2f55736572732f4d616e75656c2f4465736b746f702f6b61666b612d707974686f6e2f2e646576636f6e7461696e65722f646576636f6e7461696e65722e6a736f6e222c22736368656d65223a2266696c65227d7d/workspaces/kafka-python/kafka.ipynb#W5sdnNjb2RlLXJlbW90ZQ%3D%3D?line=12'>13</a>\u001b[0m message \u001b[39m=\u001b[39m {\n\u001b[1;32m     <a href='vscode-notebook-cell://dev-container%2B7b22686f737450617468223a22633a5c5c55736572735c5c4d616e75656c5c5c4465736b746f705c5c6b61666b612d707974686f6e222c226c6f63616c446f636b6572223a66616c73652c22636f6e66696746696c65223a7b22246d6964223a312c22667350617468223a22633a5c5c55736572735c5c4d616e75656c5c5c4465736b746f705c5c6b61666b612d707974686f6e5c5c2e646576636f6e7461696e65725c5c646576636f6e7461696e65722e6a736f6e222c225f736570223a312c2265787465726e616c223a2266696c653a2f2f2f632533412f55736572732f4d616e75656c2f4465736b746f702f6b61666b612d707974686f6e2f2e646576636f6e7461696e65722f646576636f6e7461696e65722e6a736f6e222c2270617468223a222f633a2f55736572732f4d616e75656c2f4465736b746f702f6b61666b612d707974686f6e2f2e646576636f6e7461696e65722f646576636f6e7461696e65722e6a736f6e222c22736368656d65223a2266696c65227d7d/workspaces/kafka-python/kafka.ipynb#W5sdnNjb2RlLXJlbW90ZQ%3D%3D?line=13'>14</a>\u001b[0m     \u001b[39m\"\u001b[39m\u001b[39mId\u001b[39m\u001b[39m\"\u001b[39m:\u001b[39m222\u001b[39m,\n\u001b[1;32m     <a href='vscode-notebook-cell://dev-container%2B7b22686f737450617468223a22633a5c5c55736572735c5c4d616e75656c5c5c4465736b746f705c5c6b61666b612d707974686f6e222c226c6f63616c446f636b6572223a66616c73652c22636f6e66696746696c65223a7b22246d6964223a312c22667350617468223a22633a5c5c55736572735c5c4d616e75656c5c5c4465736b746f705c5c6b61666b612d707974686f6e5c5c2e646576636f6e7461696e65725c5c646576636f6e7461696e65722e6a736f6e222c225f736570223a312c2265787465726e616c223a2266696c653a2f2f2f632533412f55736572732f4d616e75656c2f4465736b746f702f6b61666b612d707974686f6e2f2e646576636f6e7461696e65722f646576636f6e7461696e65722e6a736f6e222c2270617468223a222f633a2f55736572732f4d616e75656c2f4465736b746f702f6b61666b612d707974686f6e2f2e646576636f6e7461696e65722f646576636f6e7461696e65722e6a736f6e222c22736368656d65223a2266696c65227d7d/workspaces/kafka-python/kafka.ipynb#W5sdnNjb2RlLXJlbW90ZQ%3D%3D?line=14'>15</a>\u001b[0m     \u001b[39m\"\u001b[39m\u001b[39mproduct\u001b[39m\u001b[39m\"\u001b[39m:\u001b[39m\"\u001b[39m\u001b[39mIphone\u001b[39m\u001b[39m\"\u001b[39m\n\u001b[1;32m     <a href='vscode-notebook-cell://dev-container%2B7b22686f737450617468223a22633a5c5c55736572735c5c4d616e75656c5c5c4465736b746f705c5c6b61666b612d707974686f6e222c226c6f63616c446f636b6572223a66616c73652c22636f6e66696746696c65223a7b22246d6964223a312c22667350617468223a22633a5c5c55736572735c5c4d616e75656c5c5c4465736b746f705c5c6b61666b612d707974686f6e5c5c2e646576636f6e7461696e65725c5c646576636f6e7461696e65722e6a736f6e222c225f736570223a312c2265787465726e616c223a2266696c653a2f2f2f632533412f55736572732f4d616e75656c2f4465736b746f702f6b61666b612d707974686f6e2f2e646576636f6e7461696e65722f646576636f6e7461696e65722e6a736f6e222c2270617468223a222f633a2f55736572732f4d616e75656c2f4465736b746f702f6b61666b612d707974686f6e2f2e646576636f6e7461696e65722f646576636f6e7461696e65722e6a736f6e222c22736368656d65223a2266696c65227d7d/workspaces/kafka-python/kafka.ipynb#W5sdnNjb2RlLXJlbW90ZQ%3D%3D?line=15'>16</a>\u001b[0m }\n\u001b[1;32m     <a href='vscode-notebook-cell://dev-container%2B7b22686f737450617468223a22633a5c5c55736572735c5c4d616e75656c5c5c4465736b746f705c5c6b61666b612d707974686f6e222c226c6f63616c446f636b6572223a66616c73652c22636f6e66696746696c65223a7b22246d6964223a312c22667350617468223a22633a5c5c55736572735c5c4d616e75656c5c5c4465736b746f705c5c6b61666b612d707974686f6e5c5c2e646576636f6e7461696e65725c5c646576636f6e7461696e65722e6a736f6e222c225f736570223a312c2265787465726e616c223a2266696c653a2f2f2f632533412f55736572732f4d616e75656c2f4465736b746f702f6b61666b612d707974686f6e2f2e646576636f6e7461696e65722f646576636f6e7461696e65722e6a736f6e222c2270617468223a222f633a2f55736572732f4d616e75656c2f4465736b746f702f6b61666b612d707974686f6e2f2e646576636f6e7461696e65722f646576636f6e7461696e65722e6a736f6e222c22736368656d65223a2266696c65227d7d/workspaces/kafka-python/kafka.ipynb#W5sdnNjb2RlLXJlbW90ZQ%3D%3D?line=22'>23</a>\u001b[0m kafka_data_access \u001b[39m=\u001b[39m KafkaDataAccess(config)\n\u001b[0;32m---> <a href='vscode-notebook-cell://dev-container%2B7b22686f737450617468223a22633a5c5c55736572735c5c4d616e75656c5c5c4465736b746f705c5c6b61666b612d707974686f6e222c226c6f63616c446f636b6572223a66616c73652c22636f6e66696746696c65223a7b22246d6964223a312c22667350617468223a22633a5c5c55736572735c5c4d616e75656c5c5c4465736b746f705c5c6b61666b612d707974686f6e5c5c2e646576636f6e7461696e65725c5c646576636f6e7461696e65722e6a736f6e222c225f736570223a312c2265787465726e616c223a2266696c653a2f2f2f632533412f55736572732f4d616e75656c2f4465736b746f702f6b61666b612d707974686f6e2f2e646576636f6e7461696e65722f646576636f6e7461696e65722e6a736f6e222c2270617468223a222f633a2f55736572732f4d616e75656c2f4465736b746f702f6b61666b612d707974686f6e2f2e646576636f6e7461696e65722f646576636f6e7461696e65722e6a736f6e222c22736368656d65223a2266696c65227d7d/workspaces/kafka-python/kafka.ipynb#W5sdnNjb2RlLXJlbW90ZQ%3D%3D?line=23'>24</a>\u001b[0m kafka_data_access\u001b[39m.\u001b[39;49msend_message(message)\n",
      "\u001b[1;32m/workspaces/kafka-python/kafka.ipynb Cell 2\u001b[0m line \u001b[0;36m6\n\u001b[1;32m     <a href='vscode-notebook-cell://dev-container%2B7b22686f737450617468223a22633a5c5c55736572735c5c4d616e75656c5c5c4465736b746f705c5c6b61666b612d707974686f6e222c226c6f63616c446f636b6572223a66616c73652c22636f6e66696746696c65223a7b22246d6964223a312c22667350617468223a22633a5c5c55736572735c5c4d616e75656c5c5c4465736b746f705c5c6b61666b612d707974686f6e5c5c2e646576636f6e7461696e65725c5c646576636f6e7461696e65722e6a736f6e222c225f736570223a312c2265787465726e616c223a2266696c653a2f2f2f632533412f55736572732f4d616e75656c2f4465736b746f702f6b61666b612d707974686f6e2f2e646576636f6e7461696e65722f646576636f6e7461696e65722e6a736f6e222c2270617468223a222f633a2f55736572732f4d616e75656c2f4465736b746f702f6b61666b612d707974686f6e2f2e646576636f6e7461696e65722f646576636f6e7461696e65722e6a736f6e222c22736368656d65223a2266696c65227d7d/workspaces/kafka-python/kafka.ipynb#W5sdnNjb2RlLXJlbW90ZQ%3D%3D?line=63'>64</a>\u001b[0m \u001b[39mdef\u001b[39;00m \u001b[39msend_message\u001b[39m(\u001b[39mself\u001b[39m,message):\n\u001b[1;32m     <a href='vscode-notebook-cell://dev-container%2B7b22686f737450617468223a22633a5c5c55736572735c5c4d616e75656c5c5c4465736b746f705c5c6b61666b612d707974686f6e222c226c6f63616c446f636b6572223a66616c73652c22636f6e66696746696c65223a7b22246d6964223a312c22667350617468223a22633a5c5c55736572735c5c4d616e75656c5c5c4465736b746f705c5c6b61666b612d707974686f6e5c5c2e646576636f6e7461696e65725c5c646576636f6e7461696e65722e6a736f6e222c225f736570223a312c2265787465726e616c223a2266696c653a2f2f2f632533412f55736572732f4d616e75656c2f4465736b746f702f6b61666b612d707974686f6e2f2e646576636f6e7461696e65722f646576636f6e7461696e65722e6a736f6e222c2270617468223a222f633a2f55736572732f4d616e75656c2f4465736b746f702f6b61666b612d707974686f6e2f2e646576636f6e7461696e65722f646576636f6e7461696e65722e6a736f6e222c22736368656d65223a2266696c65227d7d/workspaces/kafka-python/kafka.ipynb#W5sdnNjb2RlLXJlbW90ZQ%3D%3D?line=64'>65</a>\u001b[0m     \u001b[39mwith\u001b[39;00m \u001b[39mself\u001b[39m\u001b[39m.\u001b[39mconnection\u001b[39m.\u001b[39minitialize(KafkaClient\u001b[39m.\u001b[39mproducer) \u001b[39mas\u001b[39;00m client:\n\u001b[0;32m---> <a href='vscode-notebook-cell://dev-container%2B7b22686f737450617468223a22633a5c5c55736572735c5c4d616e75656c5c5c4465736b746f705c5c6b61666b612d707974686f6e222c226c6f63616c446f636b6572223a66616c73652c22636f6e66696746696c65223a7b22246d6964223a312c22667350617468223a22633a5c5c55736572735c5c4d616e75656c5c5c4465736b746f705c5c6b61666b612d707974686f6e5c5c2e646576636f6e7461696e65725c5c646576636f6e7461696e65722e6a736f6e222c225f736570223a312c2265787465726e616c223a2266696c653a2f2f2f632533412f55736572732f4d616e75656c2f4465736b746f702f6b61666b612d707974686f6e2f2e646576636f6e7461696e65722f646576636f6e7461696e65722e6a736f6e222c2270617468223a222f633a2f55736572732f4d616e75656c2f4465736b746f702f6b61666b612d707974686f6e2f2e646576636f6e7461696e65722f646576636f6e7461696e65722e6a736f6e222c22736368656d65223a2266696c65227d7d/workspaces/kafka-python/kafka.ipynb#W5sdnNjb2RlLXJlbW90ZQ%3D%3D?line=65'>66</a>\u001b[0m         client\u001b[39m.\u001b[39;49msend(message)\n",
      "File \u001b[0;32m/usr/local/lib/python3.10/site-packages/kafka/producer/kafka.py:573\u001b[0m, in \u001b[0;36mKafkaProducer.send\u001b[0;34m(self, topic, value, key, headers, partition, timestamp_ms)\u001b[0m\n\u001b[1;32m    539\u001b[0m \u001b[39m\u001b[39m\u001b[39m\"\"\"Publish a message to a topic.\u001b[39;00m\n\u001b[1;32m    540\u001b[0m \n\u001b[1;32m    541\u001b[0m \u001b[39mArguments:\u001b[39;00m\n\u001b[0;32m   (...)\u001b[0m\n\u001b[1;32m    569\u001b[0m \u001b[39m        to obtain memory buffer prior to configured max_block_ms\u001b[39;00m\n\u001b[1;32m    570\u001b[0m \u001b[39m\"\"\"\u001b[39;00m\n\u001b[1;32m    571\u001b[0m \u001b[39massert\u001b[39;00m value \u001b[39mis\u001b[39;00m \u001b[39mnot\u001b[39;00m \u001b[39mNone\u001b[39;00m \u001b[39mor\u001b[39;00m \u001b[39mself\u001b[39m\u001b[39m.\u001b[39mconfig[\u001b[39m'\u001b[39m\u001b[39mapi_version\u001b[39m\u001b[39m'\u001b[39m] \u001b[39m>\u001b[39m\u001b[39m=\u001b[39m (\u001b[39m0\u001b[39m, \u001b[39m8\u001b[39m, \u001b[39m1\u001b[39m), (\n\u001b[1;32m    572\u001b[0m     \u001b[39m'\u001b[39m\u001b[39mNull messages require kafka >= 0.8.1\u001b[39m\u001b[39m'\u001b[39m)\n\u001b[0;32m--> 573\u001b[0m \u001b[39massert\u001b[39;00m \u001b[39mnot\u001b[39;00m (value \u001b[39mis\u001b[39;00m \u001b[39mNone\u001b[39;00m \u001b[39mand\u001b[39;00m key \u001b[39mis\u001b[39;00m \u001b[39mNone\u001b[39;00m), \u001b[39m'\u001b[39m\u001b[39mNeed at least one: key or value\u001b[39m\u001b[39m'\u001b[39m\n\u001b[1;32m    574\u001b[0m key_bytes \u001b[39m=\u001b[39m value_bytes \u001b[39m=\u001b[39m \u001b[39mNone\u001b[39;00m\n\u001b[1;32m    575\u001b[0m \u001b[39mtry\u001b[39;00m:\n",
      "\u001b[0;31mAssertionError\u001b[0m: Need at least one: key or value"
     ]
    }
   ],
   "source": [
    "import json\n",
    "\n",
    "\n",
    "\n",
    "config = kafka_config(\n",
    "    bootstrap_servers=\"host.docker.internal:9092\",\n",
    "    value_serializer=lambda x:json.dumps(x).encode(\"utf-8\"),\n",
    "    topic=\"tpc-test-lib\"\n",
    ")\n",
    "\n",
    "\n",
    "\n",
    "message = {\n",
    "    \"Id\":222,\n",
    "    \"product\":\"Iphone\"\n",
    "}\n",
    "\n",
    "\n",
    "\n",
    "\n",
    "\n",
    "\n",
    "kafka_data_access = KafkaDataAccess(config)\n",
    "kafka_data_access.send_message(message)\n",
    "\n",
    "\n",
    "\n",
    "\n"
   ]
  },
  {
   "cell_type": "code",
   "execution_count": 17,
   "metadata": {},
   "outputs": [
    {
     "data": {
      "text/plain": [
       "1"
      ]
     },
     "execution_count": 17,
     "metadata": {},
     "output_type": "execute_result"
    }
   ],
   "source": [
    "\n"
   ]
  },
  {
   "cell_type": "code",
   "execution_count": null,
   "metadata": {},
   "outputs": [],
   "source": []
  },
  {
   "cell_type": "code",
   "execution_count": null,
   "metadata": {},
   "outputs": [],
   "source": []
  }
 ],
 "metadata": {
  "kernelspec": {
   "display_name": "Python 3",
   "language": "python",
   "name": "python3"
  },
  "language_info": {
   "codemirror_mode": {
    "name": "ipython",
    "version": 3
   },
   "file_extension": ".py",
   "mimetype": "text/x-python",
   "name": "python",
   "nbconvert_exporter": "python",
   "pygments_lexer": "ipython3",
   "version": "3.10.13"
  }
 },
 "nbformat": 4,
 "nbformat_minor": 2
}
