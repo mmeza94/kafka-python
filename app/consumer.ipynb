{
 "cells": [
  {
   "cell_type": "markdown",
   "metadata": {},
   "source": [
    "## Creando Kafka Consumer"
   ]
  },
  {
   "cell_type": "code",
   "execution_count": 2,
   "metadata": {},
   "outputs": [
    {
     "name": "stdout",
     "output_type": "stream",
     "text": [
      "b'{\"productId\": 1, \"product_name\": \"ABC\"}'\n",
      "b'{\"productId\": 2, \"product_name\": \"DEF\"}'\n",
      "b'{\"productId\": 3, \"product_name\": \"GHI\"}'\n",
      "Detenido por el usuario\n"
     ]
    }
   ],
   "source": [
    "from kafka import KafkaConsumer\n",
    "\n",
    "# Configuración básica del consumidor\n",
    "bootstrap_servers = 'host.docker.internal:9092'\n",
    "group_id = 'test_3'\n",
    "topic = \"tpc-test\"\n",
    "\n",
    "# Instanciar el consumidor\n",
    "consumer = KafkaConsumer(\n",
    "    topic,\n",
    "    bootstrap_servers=bootstrap_servers,\n",
    "    group_id=group_id,\n",
    "    auto_offset_reset='earliest'  # Esto hará que el consumidor lea desde el inicio del tópico si no hay un offset previamente guardado.\n",
    ")\n",
    "\n",
    "try:\n",
    "    for message in consumer:\n",
    "        print(message.value)  # Mostrar el valor del mensaje\n",
    "\n",
    "except KeyboardInterrupt:\n",
    "    print(\"Detenido por el usuario\")\n",
    "finally:\n",
    "    consumer.close()\n",
    "\n"
   ]
  },
  {
   "cell_type": "code",
   "execution_count": 5,
   "metadata": {},
   "outputs": [],
   "source": [
    "from kafka import KafkaConsumer\n",
    "\n",
    "# Configuración básica del consumidor\n",
    "bootstrap_servers = 'host.docker.internal:9092'\n",
    "group_id = 'test_3'\n",
    "topic = \"tpc-test\"\n",
    "\n",
    "\n",
    "consumer = KafkaConsumer(\n",
    "    topic,\n",
    "    bootstrap_servers=bootstrap_servers,\n",
    "    group_id=group_id,\n",
    "    auto_offset_reset='earliest',  # Leer desde el inicio del tópico si no hay un offset previamente guardado.\n",
    "    value_deserializer=lambda x: x.decode('utf-8'),  # Deserializar los mensajes como UTF-8\n",
    "    enable_auto_commit=False\n",
    ")\n"
   ]
  },
  {
   "cell_type": "markdown",
   "metadata": {},
   "source": [
    "The drawback is that while commitSync() will retry the commit until it either succeeds or encounters a nonretriable failure, commitAsync() will not retry"
   ]
  },
  {
   "cell_type": "code",
   "execution_count": 4,
   "metadata": {},
   "outputs": [
    {
     "name": "stdout",
     "output_type": "stream",
     "text": [
      "topic = tpc-test, partition = 0, offset = 0, key = None, value = {\"productId\": 1, \"product_name\": \"ABD\"}\n",
      "topic = tpc-test, partition = 0, offset = 1, key = None, value = {\"productId\": 2, \"product_name\": \"EFG\"}\n",
      "topic = tpc-test, partition = 0, offset = 2, key = None, value = {\"productId\": 3, \"product_name\": \"HIJ\"}\n",
      "Detenido por el usuario\n"
     ]
    }
   ],
   "source": [
    "try:\n",
    "    for message in consumer:\n",
    "        # Mostrar información detallada del mensaje\n",
    "        print(\n",
    "            f\"topic = {message.topic}, partition = {message.partition}, offset = {message.offset}, \"\n",
    "            f\"key = {message.key}, value = {message.value}\"\n",
    "        )\n",
    "\n",
    "        # Realizar commit síncrono del offset después de procesar el mensaje\n",
    "        consumer.commit()\n",
    "\n",
    "except KeyboardInterrupt:\n",
    "    print(\"Detenido por el usuario\")\n",
    "finally:\n",
    "    consumer.close()  # Asegurarse de cerrar el consumidor al final"
   ]
  },
  {
   "cell_type": "code",
   "execution_count": 6,
   "metadata": {},
   "outputs": [
    {
     "name": "stdout",
     "output_type": "stream",
     "text": [
      "topic = tpc-test, partition = 0, offset = 0, key = None, value = {\"productId\": 1, \"product_name\": \"ABD\"}\n",
      "topic = tpc-test, partition = 0, offset = 1, key = None, value = {\"productId\": 2, \"product_name\": \"EFG\"}\n",
      "topic = tpc-test, partition = 0, offset = 2, key = None, value = {\"productId\": 3, \"product_name\": \"HIJ\"}\n",
      "Detenido por el usuario\n"
     ]
    }
   ],
   "source": [
    "try:\n",
    "    for message in consumer:\n",
    "        # Mostrar información detallada del mensaje\n",
    "        print(\n",
    "            f\"topic = {message.topic}, partition = {message.partition}, offset = {message.offset}, \"\n",
    "            f\"key = {message.key}, value = {message.value}\"\n",
    "        )\n",
    "\n",
    "        # Realizar commit asíncrono del offset después de procesar el mensaje\n",
    "        consumer.commit_async()\n",
    "\n",
    "except KeyboardInterrupt:\n",
    "    print(\"Detenido por el usuario\")\n",
    "finally:\n",
    "    consumer.close()  "
   ]
  },
  {
   "cell_type": "markdown",
   "metadata": {},
   "source": [
    "## Commit Specific offset"
   ]
  },
  {
   "cell_type": "markdown",
   "metadata": {},
   "source": [
    "\n",
    "En la biblioteca kafka-python, el resultado de consumer.poll() es un objeto ConsumerRecords, que es fundamentalmente un diccionario cuyas claves son objetos TopicPartition y cuyos valores son listas de objetos ConsumerRecord"
   ]
  },
  {
   "cell_type": "code",
   "execution_count": 10,
   "metadata": {},
   "outputs": [
    {
     "name": "stdout",
     "output_type": "stream",
     "text": [
      "topic = tpc-test-cons, partition = 0, offset = 999, key = None, value = {\"ID\": 999, \"name\": \"4Ym40DkUCWjOPZc\"}\n",
      "topic = tpc-test-cons, partition = 0, offset = 1999, key = None, value = {\"ID\": 999, \"name\": \"cOmRD11MSbc4Zyl\"}\n",
      "topic = tpc-test-cons, partition = 0, offset = 2999, key = None, value = {\"ID\": 999, \"name\": \"9ca6ASb9zoknuI8\"}\n",
      "Detenido por el usuario\n"
     ]
    }
   ],
   "source": [
    "from kafka import KafkaConsumer, TopicPartition, OffsetAndMetadata\n",
    "\n",
    "# Configuración básica del consumidor\n",
    "bootstrap_servers = 'host.docker.internal:9092'\n",
    "group_id = 'test_2'\n",
    "topic = \"tpc-test-cons\"\n",
    "poll_timeout = 0.1  # 100 milliseconds\n",
    "\n",
    "# Instanciar el consumidor\n",
    "consumer = KafkaConsumer(\n",
    "    topic,\n",
    "    bootstrap_servers=bootstrap_servers,\n",
    "    group_id=group_id,\n",
    "    auto_offset_reset='earliest',  # Leer desde el inicio del tópico si no hay un offset previamente guardado.\n",
    "    value_deserializer=lambda x: x.decode('utf-8'),  # Deserializar los mensajes como UTF-8\n",
    "    enable_auto_commit=False  # Desactivar el auto commit\n",
    ")\n",
    "\n",
    "current_offsets = {}  # Diccionario para mantener los offsets actuales\n",
    "count = 0\n",
    "\n",
    "try:\n",
    "    while True:\n",
    "        records = consumer.poll(timeout_ms=poll_timeout*1000)  # Convertir a milisegundos\n",
    "\n",
    "        for record_batch in records.values():\n",
    "            for message in record_batch:\n",
    "                # Actualizar el offset en el diccionario\n",
    "                tp = TopicPartition(message.topic, message.partition)\n",
    "                current_offsets[tp] = OffsetAndMetadata(message.offset + 1, \"no metadata\")\n",
    "                \n",
    "                # Realizar commit asíncrono después de procesar cada 1000 mensajes\n",
    "                count += 1\n",
    "                if count % 1000 == 0:\n",
    "                    print(\n",
    "                            f\"topic = {message.topic}, partition = {message.partition}, offset = {message.offset}, \"\n",
    "                            f\"key = {message.key}, value = {message.value}\"\n",
    "                        )\n",
    "                    consumer.commit_async(offsets=current_offsets)\n",
    "except KeyboardInterrupt:\n",
    "    print(\"Detenido por el usuario\")\n",
    "finally:\n",
    "    consumer.close()  # Asegurarse de cerrar el consumidor al final\n"
   ]
  },
  {
   "cell_type": "code",
   "execution_count": null,
   "metadata": {},
   "outputs": [],
   "source": [
    "from kafka import KafkaConsumer, TopicPartition, OffsetAndMetadata\n",
    "\n",
    "bootstrap_servers = 'your_bootstrap_servers'\n",
    "group_id = 'your_group_id'\n",
    "topics = ['your_topic']\n",
    "poll_timeout = 0.1  # equivalente a Duration.ofMillis(100)\n",
    "\n",
    "current_offsets = {}\n",
    "\n",
    "# Definir los callbacks de rebalance\n",
    "def on_partitions_assigned(consumer, partitions):\n",
    "    # Aquí puedes manejar lógica para cuando se asignan particiones\n",
    "    pass\n",
    "\n",
    "def on_partitions_revoked(consumer, partitions):\n",
    "    print(f\"Lost partitions in rebalance. Committing current offsets: {current_offsets}\")\n",
    "    consumer.commit(offsets=current_offsets)\n",
    "\n",
    "# Configurar e iniciar el consumidor\n",
    "consumer = KafkaConsumer(\n",
    "    bootstrap_servers=bootstrap_servers,\n",
    "    group_id=group_id,\n",
    "    enable_auto_commit=False,\n",
    "    auto_offset_reset='earliest'\n",
    ")\n",
    "\n",
    "consumer.subscribe(topics, on_partitions_assigned=on_partitions_assigned, on_partitions_revoked=on_partitions_revoked)\n",
    "\n",
    "try:\n",
    "    while True:\n",
    "        records = consumer.poll(timeout_ms=poll_timeout*1000)  # Convertir a milisegundos\n",
    "        for message in records.values():\n",
    "            for record in message:\n",
    "                print(\n",
    "                    f\"topic = {record.topic}, partition = {record.partition}, offset = {record.offset}, \"\n",
    "                    f\"key = {record.key}, value = {record.value}\"\n",
    "                )\n",
    "                tp = TopicPartition(record.topic, record.partition)\n",
    "                current_offsets[tp] = OffsetAndMetadata(record.offset+1, \"\")\n",
    "        consumer.commit_async(offsets=current_offsets)\n",
    "\n",
    "except KeyboardInterrupt:  # Manejar interrupción manual\n",
    "    print(\"Detenido por el usuario\")\n",
    "\n",
    "except Exception as e:\n",
    "    print(f\"Error inesperado: {e}\")\n",
    "\n",
    "finally:\n",
    "    try:\n",
    "        consumer.commit(offsets=current_offsets)\n",
    "    finally:\n",
    "        consumer.close()\n",
    "        print(\"Closed consumer and we are done\")\n"
   ]
  },
  {
   "cell_type": "code",
   "execution_count": null,
   "metadata": {},
   "outputs": [],
   "source": []
  },
  {
   "cell_type": "code",
   "execution_count": null,
   "metadata": {},
   "outputs": [],
   "source": []
  },
  {
   "cell_type": "code",
   "execution_count": null,
   "metadata": {},
   "outputs": [],
   "source": []
  },
  {
   "cell_type": "code",
   "execution_count": null,
   "metadata": {},
   "outputs": [],
   "source": []
  },
  {
   "cell_type": "code",
   "execution_count": null,
   "metadata": {},
   "outputs": [],
   "source": []
  },
  {
   "cell_type": "code",
   "execution_count": null,
   "metadata": {},
   "outputs": [],
   "source": []
  },
  {
   "cell_type": "code",
   "execution_count": null,
   "metadata": {},
   "outputs": [],
   "source": []
  },
  {
   "cell_type": "code",
   "execution_count": null,
   "metadata": {},
   "outputs": [],
   "source": []
  },
  {
   "cell_type": "code",
   "execution_count": null,
   "metadata": {},
   "outputs": [],
   "source": []
  },
  {
   "cell_type": "code",
   "execution_count": null,
   "metadata": {},
   "outputs": [],
   "source": []
  },
  {
   "cell_type": "code",
   "execution_count": null,
   "metadata": {},
   "outputs": [],
   "source": []
  }
 ],
 "metadata": {
  "kernelspec": {
   "display_name": "Python 3",
   "language": "python",
   "name": "python3"
  },
  "language_info": {
   "codemirror_mode": {
    "name": "ipython",
    "version": 3
   },
   "file_extension": ".py",
   "mimetype": "text/x-python",
   "name": "python",
   "nbconvert_exporter": "python",
   "pygments_lexer": "ipython3",
   "version": "3.10.13"
  }
 },
 "nbformat": 4,
 "nbformat_minor": 2
}
